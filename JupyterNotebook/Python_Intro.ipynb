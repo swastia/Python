{
 "cells": [
  {
   "cell_type": "code",
   "execution_count": 1,
   "id": "936313ef-1e70-44da-8342-c86d20ba51ee",
   "metadata": {},
   "outputs": [
    {
     "data": {
      "text/plain": [
       "1"
      ]
     },
     "execution_count": 1,
     "metadata": {},
     "output_type": "execute_result"
    }
   ],
   "source": [
    "1"
   ]
  },
  {
   "cell_type": "code",
   "execution_count": 3,
   "id": "bdd685ac-98dc-4986-be14-2204067c35bf",
   "metadata": {},
   "outputs": [
    {
     "data": {
      "text/plain": [
       "1.5"
      ]
     },
     "execution_count": 3,
     "metadata": {},
     "output_type": "execute_result"
    }
   ],
   "source": [
    "1.5"
   ]
  },
  {
   "cell_type": "code",
   "execution_count": 5,
   "id": "2ec02f11-59f1-4b70-ba7a-dc1502d3cabe",
   "metadata": {},
   "outputs": [
    {
     "data": {
      "text/plain": [
       "2"
      ]
     },
     "execution_count": 5,
     "metadata": {},
     "output_type": "execute_result"
    }
   ],
   "source": [
    "1+1"
   ]
  },
  {
   "cell_type": "code",
   "execution_count": 7,
   "id": "308202f5-39b9-49db-ba8a-2b29326db8ec",
   "metadata": {},
   "outputs": [
    {
     "data": {
      "text/plain": [
       "3.3"
      ]
     },
     "execution_count": 7,
     "metadata": {},
     "output_type": "execute_result"
    }
   ],
   "source": [
    "1.2+2.1"
   ]
  },
  {
   "cell_type": "code",
   "execution_count": 9,
   "id": "94df8f2a-3e83-4837-a8f7-1d09380a9291",
   "metadata": {},
   "outputs": [
    {
     "data": {
      "text/plain": [
       "1.5"
      ]
     },
     "execution_count": 9,
     "metadata": {},
     "output_type": "execute_result"
    }
   ],
   "source": [
    "1*1.5\n"
   ]
  },
  {
   "cell_type": "code",
   "execution_count": 11,
   "id": "942bc310-5bbc-4884-9bf2-bd18d170847e",
   "metadata": {},
   "outputs": [
    {
     "data": {
      "text/plain": [
       "4.333333333333333"
      ]
     },
     "execution_count": 11,
     "metadata": {},
     "output_type": "execute_result"
    }
   ],
   "source": [
    "13 / 3\n"
   ]
  },
  {
   "cell_type": "code",
   "execution_count": 13,
   "id": "7e1df77b-6bff-4d62-8c7b-2a4725d470c7",
   "metadata": {},
   "outputs": [
    {
     "data": {
      "text/plain": [
       "8"
      ]
     },
     "execution_count": 13,
     "metadata": {},
     "output_type": "execute_result"
    }
   ],
   "source": [
    "2 ** 3\n"
   ]
  },
  {
   "cell_type": "code",
   "execution_count": null,
   "id": "0684cbb5-8fd1-418d-9eee-4b2d20838a77",
   "metadata": {},
   "outputs": [],
   "source": []
  },
  {
   "cell_type": "code",
   "execution_count": 15,
   "id": "1c5a8060-583a-4772-a78a-b6cd3b80e5f0",
   "metadata": {},
   "outputs": [
    {
     "data": {
      "text/plain": [
       "1"
      ]
     },
     "execution_count": 15,
     "metadata": {},
     "output_type": "execute_result"
    }
   ],
   "source": [
    "5%2\n"
   ]
  },
  {
   "cell_type": "code",
   "execution_count": 17,
   "id": "156d5f32-5eff-4fc6-820e-d1e350c01476",
   "metadata": {},
   "outputs": [],
   "source": [
    "a= 3\n",
    "b = 5"
   ]
  },
  {
   "cell_type": "code",
   "execution_count": 19,
   "id": "0cadff60-9f87-40d7-a66b-93ffa35a07db",
   "metadata": {},
   "outputs": [
    {
     "data": {
      "text/plain": [
       "3"
      ]
     },
     "execution_count": 19,
     "metadata": {},
     "output_type": "execute_result"
    }
   ],
   "source": [
    "a"
   ]
  },
  {
   "cell_type": "code",
   "execution_count": 22,
   "id": "dbb198ba-e36a-46e6-82f1-999b8e0b2d36",
   "metadata": {},
   "outputs": [
    {
     "data": {
      "text/plain": [
       "5"
      ]
     },
     "execution_count": 22,
     "metadata": {},
     "output_type": "execute_result"
    }
   ],
   "source": [
    "b"
   ]
  },
  {
   "cell_type": "code",
   "execution_count": 24,
   "id": "b84962f7-9249-4c3a-a5a6-2a52c1aa877a",
   "metadata": {},
   "outputs": [
    {
     "data": {
      "text/plain": [
       "3"
      ]
     },
     "execution_count": 24,
     "metadata": {},
     "output_type": "execute_result"
    }
   ],
   "source": [
    "a % b\n"
   ]
  },
  {
   "cell_type": "code",
   "execution_count": 26,
   "id": "ce5a57c7-ecf1-45e6-9629-77d3a26ee3d5",
   "metadata": {},
   "outputs": [
    {
     "data": {
      "text/plain": [
       "0.6"
      ]
     },
     "execution_count": 26,
     "metadata": {},
     "output_type": "execute_result"
    }
   ],
   "source": [
    "a/b\n"
   ]
  },
  {
   "cell_type": "code",
   "execution_count": 35,
   "id": "2df6e8eb-fd4b-418e-92ab-6c9920aee020",
   "metadata": {},
   "outputs": [],
   "source": [
    "name_of_app = 'My App'\n",
    "\n"
   ]
  },
  {
   "cell_type": "markdown",
   "id": "43ecaadb-4ed3-4e60-923f-710f8da1989c",
   "metadata": {},
   "source": [
    "name_of_app"
   ]
  },
  {
   "cell_type": "code",
   "execution_count": 37,
   "id": "2ea37b4e-db61-4104-96d1-df8b49df2294",
   "metadata": {},
   "outputs": [
    {
     "data": {
      "text/plain": [
       "'My App'"
      ]
     },
     "execution_count": 37,
     "metadata": {},
     "output_type": "execute_result"
    }
   ],
   "source": [
    "name_of_app"
   ]
  },
  {
   "cell_type": "code",
   "execution_count": 39,
   "id": "03bce482-d0d4-41ba-a519-410bf6553125",
   "metadata": {},
   "outputs": [
    {
     "data": {
      "text/plain": [
       "\" my code's \""
      ]
     },
     "execution_count": 39,
     "metadata": {},
     "output_type": "execute_result"
    }
   ],
   "source": [
    "\" my code's \""
   ]
  },
  {
   "cell_type": "code",
   "execution_count": 45,
   "id": "75d76ef7-b0ed-415c-b661-c410fa95666e",
   "metadata": {},
   "outputs": [
    {
     "data": {
      "text/plain": [
       "'my \"code\" is'"
      ]
     },
     "execution_count": 45,
     "metadata": {},
     "output_type": "execute_result"
    }
   ],
   "source": [
    "'my \"code\" is'"
   ]
  },
  {
   "cell_type": "code",
   "execution_count": 53,
   "id": "62c5d232-2c00-4532-be1b-5fe6cd376f98",
   "metadata": {},
   "outputs": [],
   "source": [
    "num = 7\n",
    "name = 'Viv'"
   ]
  },
  {
   "cell_type": "code",
   "execution_count": 57,
   "id": "b1f883e8-fc67-4fda-83d2-f8138947ce89",
   "metadata": {},
   "outputs": [
    {
     "name": "stdout",
     "output_type": "stream",
     "text": [
      "Hi, My num is 7 my name is Viv. 7 is my lucky number, Viv is my fav name\n"
     ]
    }
   ],
   "source": [
    "print('Hi, My num is {one} my name is {two}. {one} is my lucky number, {two} is my fav name'.format(one=num, two=name))"
   ]
  },
  {
   "cell_type": "code",
   "execution_count": 59,
   "id": "0974eb8c-215e-4631-b3e2-4e5256cf359c",
   "metadata": {},
   "outputs": [],
   "source": [
    "s = 'Swasti'"
   ]
  },
  {
   "cell_type": "code",
   "execution_count": 61,
   "id": "d83f851c-5ba2-45e2-b5fb-0562486b2ccd",
   "metadata": {},
   "outputs": [
    {
     "data": {
      "text/plain": [
       "'a'"
      ]
     },
     "execution_count": 61,
     "metadata": {},
     "output_type": "execute_result"
    }
   ],
   "source": [
    "s[2]"
   ]
  },
  {
   "cell_type": "code",
   "execution_count": 65,
   "id": "35feb0bc-8460-4123-9156-baa934c1756b",
   "metadata": {},
   "outputs": [
    {
     "data": {
      "text/plain": [
       "'Swast'"
      ]
     },
     "execution_count": 65,
     "metadata": {},
     "output_type": "execute_result"
    }
   ],
   "source": [
    "s[:5]"
   ]
  },
  {
   "cell_type": "code",
   "execution_count": 67,
   "id": "2e21f9e5-dc63-4359-967c-c1afdba79ae9",
   "metadata": {},
   "outputs": [
    {
     "data": {
      "text/plain": [
       "'ast'"
      ]
     },
     "execution_count": 67,
     "metadata": {},
     "output_type": "execute_result"
    }
   ],
   "source": [
    "s[2:5]"
   ]
  },
  {
   "cell_type": "code",
   "execution_count": 69,
   "id": "3a6a06c7-6208-480b-a924-1365e0ad0ef7",
   "metadata": {},
   "outputs": [],
   "source": [
    "l = ['a', 'b', 'c']"
   ]
  },
  {
   "cell_type": "code",
   "execution_count": 71,
   "id": "bb0ce78b-f7f6-4c04-ab15-b277fd5e3a23",
   "metadata": {},
   "outputs": [],
   "source": [
    "l.append('d')"
   ]
  },
  {
   "cell_type": "code",
   "execution_count": 73,
   "id": "e3f12609-2dbb-4d81-bd93-78c8f4e11fc6",
   "metadata": {},
   "outputs": [
    {
     "data": {
      "text/plain": [
       "['a', 'b', 'c', 'd']"
      ]
     },
     "execution_count": 73,
     "metadata": {},
     "output_type": "execute_result"
    }
   ],
   "source": [
    "l"
   ]
  },
  {
   "cell_type": "code",
   "execution_count": 75,
   "id": "95e88764-65a9-4a62-9f2b-b85256376fbf",
   "metadata": {},
   "outputs": [
    {
     "data": {
      "text/plain": [
       "['c']"
      ]
     },
     "execution_count": 75,
     "metadata": {},
     "output_type": "execute_result"
    }
   ],
   "source": [
    "l[2:3]"
   ]
  },
  {
   "cell_type": "code",
   "execution_count": 77,
   "id": "186d62b0-4db8-4097-94ca-e4ceb5e58003",
   "metadata": {},
   "outputs": [
    {
     "data": {
      "text/plain": [
       "['b', 'c', 'd']"
      ]
     },
     "execution_count": 77,
     "metadata": {},
     "output_type": "execute_result"
    }
   ],
   "source": [
    "l[1:]\n",
    "\n"
   ]
  },
  {
   "cell_type": "code",
   "execution_count": 83,
   "id": "73add67f-c90b-41a5-b726-ef3111494a56",
   "metadata": {},
   "outputs": [
    {
     "data": {
      "text/plain": [
       "['a', 'b', 'new']"
      ]
     },
     "execution_count": 83,
     "metadata": {},
     "output_type": "execute_result"
    }
   ],
   "source": [
    "l[:3]"
   ]
  },
  {
   "cell_type": "code",
   "execution_count": 81,
   "id": "2b2b12c0-7abf-4c96-a8bb-c95050548ca7",
   "metadata": {},
   "outputs": [],
   "source": [
    "l[2] = 'new'"
   ]
  },
  {
   "cell_type": "code",
   "execution_count": 85,
   "id": "3ddd215c-675e-4ce6-8051-b012afb4e530",
   "metadata": {},
   "outputs": [
    {
     "data": {
      "text/plain": [
       "['a', 'b', 'new', 'd']"
      ]
     },
     "execution_count": 85,
     "metadata": {},
     "output_type": "execute_result"
    }
   ],
   "source": [
    "l "
   ]
  },
  {
   "cell_type": "code",
   "execution_count": 3,
   "id": "e2b520f0-6f17-47d8-9e01-c7fe89239f97",
   "metadata": {},
   "outputs": [],
   "source": [
    "# maps are dictionaries in python"
   ]
  },
  {
   "cell_type": "code",
   "execution_count": 7,
   "id": "6d15d462-176d-4c62-b563-7e2051fb52b6",
   "metadata": {},
   "outputs": [],
   "source": [
    "d = {'k1' : [1,2,3,4]}"
   ]
  },
  {
   "cell_type": "code",
   "execution_count": 9,
   "id": "f895851f-39eb-4822-9525-e7e344ef5f39",
   "metadata": {},
   "outputs": [
    {
     "ename": "NameError",
     "evalue": "name 'k1' is not defined",
     "output_type": "error",
     "traceback": [
      "\u001b[1;31m---------------------------------------------------------------------------\u001b[0m",
      "\u001b[1;31mNameError\u001b[0m                                 Traceback (most recent call last)",
      "Cell \u001b[1;32mIn[9], line 1\u001b[0m\n\u001b[1;32m----> 1\u001b[0m k1\n",
      "\u001b[1;31mNameError\u001b[0m: name 'k1' is not defined"
     ]
    }
   ],
   "source": [
    "k1"
   ]
  },
  {
   "cell_type": "code",
   "execution_count": 11,
   "id": "4f1e8a94-91c5-4170-95f9-89db857f8474",
   "metadata": {},
   "outputs": [
    {
     "ename": "AttributeError",
     "evalue": "'dict' object has no attribute 'k1'",
     "output_type": "error",
     "traceback": [
      "\u001b[1;31m---------------------------------------------------------------------------\u001b[0m",
      "\u001b[1;31mAttributeError\u001b[0m                            Traceback (most recent call last)",
      "Cell \u001b[1;32mIn[11], line 1\u001b[0m\n\u001b[1;32m----> 1\u001b[0m d\u001b[38;5;241m.\u001b[39mk1\n",
      "\u001b[1;31mAttributeError\u001b[0m: 'dict' object has no attribute 'k1'"
     ]
    }
   ],
   "source": [
    "d.k1"
   ]
  },
  {
   "cell_type": "code",
   "execution_count": 13,
   "id": "48120a68-62ee-4d41-a79d-5b7828614fb7",
   "metadata": {},
   "outputs": [
    {
     "ename": "NameError",
     "evalue": "name 'k1' is not defined",
     "output_type": "error",
     "traceback": [
      "\u001b[1;31m---------------------------------------------------------------------------\u001b[0m",
      "\u001b[1;31mNameError\u001b[0m                                 Traceback (most recent call last)",
      "Cell \u001b[1;32mIn[13], line 1\u001b[0m\n\u001b[1;32m----> 1\u001b[0m d[k1]\n",
      "\u001b[1;31mNameError\u001b[0m: name 'k1' is not defined"
     ]
    }
   ],
   "source": [
    "d[k1]"
   ]
  },
  {
   "cell_type": "code",
   "execution_count": 15,
   "id": "77844c3a-5e2d-4d16-be51-0472b13f2729",
   "metadata": {},
   "outputs": [
    {
     "data": {
      "text/plain": [
       "[1, 2, 3, 4]"
      ]
     },
     "execution_count": 15,
     "metadata": {},
     "output_type": "execute_result"
    }
   ],
   "source": [
    "d['k1']"
   ]
  },
  {
   "cell_type": "code",
   "execution_count": 21,
   "id": "692785f7-3db4-4503-8b92-e71918624081",
   "metadata": {},
   "outputs": [],
   "source": [
    "d = {'k1' : [1,2,3,4], 'k2' : 'name', 'k3': 'viv'}"
   ]
  },
  {
   "cell_type": "code",
   "execution_count": 23,
   "id": "15c56ef4-cd06-4fb7-9042-dc273b8eafea",
   "metadata": {},
   "outputs": [
    {
     "data": {
      "text/plain": [
       "{'k1': [1, 2, 3, 4], 'k2': 'name', 'k3': 'viv'}"
      ]
     },
     "execution_count": 23,
     "metadata": {},
     "output_type": "execute_result"
    }
   ],
   "source": [
    "d"
   ]
  },
  {
   "cell_type": "code",
   "execution_count": 25,
   "id": "454ba67a-5ab2-48a8-97cf-4d1e2262a35d",
   "metadata": {},
   "outputs": [
    {
     "data": {
      "text/plain": [
       "3"
      ]
     },
     "execution_count": 25,
     "metadata": {},
     "output_type": "execute_result"
    }
   ],
   "source": [
    "d['k1'][2]"
   ]
  },
  {
   "cell_type": "code",
   "execution_count": 27,
   "id": "a216a363-bb1b-479b-a416-23f35b367350",
   "metadata": {},
   "outputs": [],
   "source": [
    "a = 2>3"
   ]
  },
  {
   "cell_type": "code",
   "execution_count": 29,
   "id": "1e08c599-65fa-4f88-b683-9d0ae3dc403f",
   "metadata": {},
   "outputs": [
    {
     "data": {
      "text/plain": [
       "False"
      ]
     },
     "execution_count": 29,
     "metadata": {},
     "output_type": "execute_result"
    }
   ],
   "source": [
    "a"
   ]
  },
  {
   "cell_type": "code",
   "execution_count": 31,
   "id": "fd15cef1-3a2b-4a22-9f01-52bd4877264e",
   "metadata": {},
   "outputs": [],
   "source": [
    "b = 3>2"
   ]
  },
  {
   "cell_type": "code",
   "execution_count": 33,
   "id": "2c2d3d96-6596-4e6a-a02e-17ce9fba2e09",
   "metadata": {},
   "outputs": [
    {
     "data": {
      "text/plain": [
       "True"
      ]
     },
     "execution_count": 33,
     "metadata": {},
     "output_type": "execute_result"
    }
   ],
   "source": [
    "b"
   ]
  },
  {
   "cell_type": "code",
   "execution_count": 35,
   "id": "ba1f3a7f-2b0a-412c-a5c5-d101c6123240",
   "metadata": {},
   "outputs": [],
   "source": [
    "tu = (1,2,3,4)"
   ]
  },
  {
   "cell_type": "code",
   "execution_count": 37,
   "id": "5cd9b5cc-cfda-4081-9659-931c96aa20c1",
   "metadata": {},
   "outputs": [
    {
     "data": {
      "text/plain": [
       "(1, 2, 3, 4)"
      ]
     },
     "execution_count": 37,
     "metadata": {},
     "output_type": "execute_result"
    }
   ],
   "source": [
    "tu"
   ]
  },
  {
   "cell_type": "code",
   "execution_count": 39,
   "id": "c35714f7-f475-462a-8895-0c987df4c2b5",
   "metadata": {},
   "outputs": [
    {
     "ename": "TypeError",
     "evalue": "'tuple' object does not support item assignment",
     "output_type": "error",
     "traceback": [
      "\u001b[1;31m---------------------------------------------------------------------------\u001b[0m",
      "\u001b[1;31mTypeError\u001b[0m                                 Traceback (most recent call last)",
      "Cell \u001b[1;32mIn[39], line 1\u001b[0m\n\u001b[1;32m----> 1\u001b[0m tu[\u001b[38;5;241m2\u001b[39m] \u001b[38;5;241m=\u001b[39m \u001b[38;5;241m5\u001b[39m\n",
      "\u001b[1;31mTypeError\u001b[0m: 'tuple' object does not support item assignment"
     ]
    }
   ],
   "source": [
    "tu[2] = 5"
   ]
  },
  {
   "cell_type": "code",
   "execution_count": 41,
   "id": "0242265f-6d53-467f-812f-1a2edf3ab0e4",
   "metadata": {},
   "outputs": [],
   "source": [
    "se = ({1,1,2,2,3,3,4,4,5})"
   ]
  },
  {
   "cell_type": "code",
   "execution_count": 43,
   "id": "dc070274-2464-4450-bee1-5363f2991d6d",
   "metadata": {},
   "outputs": [
    {
     "data": {
      "text/plain": [
       "{1, 2, 3, 4, 5}"
      ]
     },
     "execution_count": 43,
     "metadata": {},
     "output_type": "execute_result"
    }
   ],
   "source": [
    "se\n"
   ]
  },
  {
   "cell_type": "code",
   "execution_count": 49,
   "id": "cb4550b6-f20e-4862-82ae-2644451e5f05",
   "metadata": {},
   "outputs": [
    {
     "name": "stdout",
     "output_type": "stream",
     "text": [
      "yep!\n"
     ]
    }
   ],
   "source": [
    "if 1<2:\n",
    " print('yep!')"
   ]
  },
  {
   "cell_type": "code",
   "execution_count": null,
   "id": "79dc7de8-f4be-4b43-8614-2ea2465fd686",
   "metadata": {},
   "outputs": [],
   "source": []
  }
 ],
 "metadata": {
  "kernelspec": {
   "display_name": "Python 3 (ipykernel)",
   "language": "python",
   "name": "python3"
  },
  "language_info": {
   "codemirror_mode": {
    "name": "ipython",
    "version": 3
   },
   "file_extension": ".py",
   "mimetype": "text/x-python",
   "name": "python",
   "nbconvert_exporter": "python",
   "pygments_lexer": "ipython3",
   "version": "3.12.7"
  }
 },
 "nbformat": 4,
 "nbformat_minor": 5
}
