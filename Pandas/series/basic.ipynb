{
 "cells": [
  {
   "cell_type": "markdown",
   "id": "a90716db-1143-4af5-a973-d88dbc28cbcb",
   "metadata": {},
   "source": [
    " Series are a single column of data. They combine the best of list and dictionaries.\n",
    "They maintain the order of insertion in dictionaries."
   ]
  },
  {
   "cell_type": "code",
   "execution_count": 1,
   "id": "927702ff-78ed-46f1-8d79-a984fe362cf1",
   "metadata": {},
   "outputs": [],
   "source": [
    "bool_vals = [True, False, True, True, False]\n",
    "#convert above list to a Series using pandas. "
   ]
  },
  {
   "cell_type": "code",
   "execution_count": 2,
   "id": "cb769557-0ec1-4287-9501-331c0891c3f8",
   "metadata": {},
   "outputs": [
    {
     "data": {
      "text/plain": [
       "0     True\n",
       "1    False\n",
       "2     True\n",
       "3     True\n",
       "4    False\n",
       "dtype: bool"
      ]
     },
     "execution_count": 2,
     "metadata": {},
     "output_type": "execute_result"
    }
   ],
   "source": [
    "import pandas as pd\n",
    "pd.Series(bool_vals)"
   ]
  },
  {
   "cell_type": "markdown",
   "id": "99ef299d-588b-4987-8c1b-afa8b8dd3ad7",
   "metadata": {},
   "source": [
    "Series are basically the dictionaries with order saved. So the indexed keys we see in above result are default keys given by Pandas. Now lets convert a dictionary into a series."
   ]
  },
  {
   "cell_type": "code",
   "execution_count": 3,
   "id": "b4181d13-7f27-489d-ac75-d2b57bb9fdee",
   "metadata": {},
   "outputs": [
    {
     "data": {
      "text/plain": [
       "Tom      10\n",
       "Harry    11\n",
       "Pablo    12\n",
       "dtype: object"
      ]
     },
     "execution_count": 3,
     "metadata": {},
     "output_type": "execute_result"
    }
   ],
   "source": [
    "kids_age = {\"Tom\": \"10\",\n",
    "           \"Harry\": \"11\",\n",
    "           \"Pablo\": \"12\"}\n",
    "pd.Series(kids_age)"
   ]
  },
  {
   "cell_type": "markdown",
   "id": "e99e66f6-9d1c-4a9b-9cd5-579520c8f787",
   "metadata": {},
   "source": [
    "there are many methods in pd.Series that can be used to calculate, sum, mean, std, etc."
   ]
  },
  {
   "cell_type": "markdown",
   "id": "1ae19da9-a110-4e74-8fe1-81ad52e4a4a7",
   "metadata": {},
   "source": [
    "# Attributes are a piece of info about the object. These are not commands or methods but just information about the object."
   ]
  },
  {
   "cell_type": "markdown",
   "id": "b26929c4-dfe8-47c2-a44d-4a7160c7fad7",
   "metadata": {},
   "source": [
    "Parameters = what a method/ function/ class intantiation expects\n",
    "Arguments = actual value being passed to the method"
   ]
  },
  {
   "cell_type": "markdown",
   "id": "4ebd0bcb-d4e6-4d10-b791-e0c5280ed902",
   "metadata": {},
   "source": [
    "1. pandas ships with many read_ fuctions to read different types of files\n",
    "2. Check parameters about the read_csv() method using shift+tab\n",
    "3. first param is file path, here python will look for file in current directory since no path is mentioned.\n",
    "4. read_csv() will read import the dataset as a DataFrame, a 2-D table.\n",
    "5. Series is a 1-D data. Which means it only requires one input to find the value in that dataset. While in Dataframes, it requires 2 parameters to find the value in the data set - row and column both. Similarly in 3-D data, it requires 3 params and so on.\n",
    "   "
   ]
  },
  {
   "cell_type": "code",
   "execution_count": 5,
   "id": "3ae3bab5-df99-4438-8b11-778f169b7267",
   "metadata": {},
   "outputs": [
    {
     "data": {
      "text/html": [
       "<div>\n",
       "<style scoped>\n",
       "    .dataframe tbody tr th:only-of-type {\n",
       "        vertical-align: middle;\n",
       "    }\n",
       "\n",
       "    .dataframe tbody tr th {\n",
       "        vertical-align: top;\n",
       "    }\n",
       "\n",
       "    .dataframe thead th {\n",
       "        text-align: right;\n",
       "    }\n",
       "</style>\n",
       "<table border=\"1\" class=\"dataframe\">\n",
       "  <thead>\n",
       "    <tr style=\"text-align: right;\">\n",
       "      <th></th>\n",
       "      <th>Name</th>\n",
       "      <th>Type</th>\n",
       "    </tr>\n",
       "  </thead>\n",
       "  <tbody>\n",
       "    <tr>\n",
       "      <th>0</th>\n",
       "      <td>Bulbasaur</td>\n",
       "      <td>Grass, Poison</td>\n",
       "    </tr>\n",
       "    <tr>\n",
       "      <th>1</th>\n",
       "      <td>Ivysaur</td>\n",
       "      <td>Grass, Poison</td>\n",
       "    </tr>\n",
       "    <tr>\n",
       "      <th>2</th>\n",
       "      <td>Venusaur</td>\n",
       "      <td>Grass, Poison</td>\n",
       "    </tr>\n",
       "    <tr>\n",
       "      <th>3</th>\n",
       "      <td>Charmander</td>\n",
       "      <td>Fire</td>\n",
       "    </tr>\n",
       "    <tr>\n",
       "      <th>4</th>\n",
       "      <td>Charmeleon</td>\n",
       "      <td>Fire</td>\n",
       "    </tr>\n",
       "    <tr>\n",
       "      <th>...</th>\n",
       "      <td>...</td>\n",
       "      <td>...</td>\n",
       "    </tr>\n",
       "    <tr>\n",
       "      <th>1005</th>\n",
       "      <td>Iron Valiant</td>\n",
       "      <td>Fairy, Fighting</td>\n",
       "    </tr>\n",
       "    <tr>\n",
       "      <th>1006</th>\n",
       "      <td>Koraidon</td>\n",
       "      <td>Fighting, Dragon</td>\n",
       "    </tr>\n",
       "    <tr>\n",
       "      <th>1007</th>\n",
       "      <td>Miraidon</td>\n",
       "      <td>Electric, Dragon</td>\n",
       "    </tr>\n",
       "    <tr>\n",
       "      <th>1008</th>\n",
       "      <td>Walking Wake</td>\n",
       "      <td>Water, Dragon</td>\n",
       "    </tr>\n",
       "    <tr>\n",
       "      <th>1009</th>\n",
       "      <td>Iron Leaves</td>\n",
       "      <td>Grass, Psychic</td>\n",
       "    </tr>\n",
       "  </tbody>\n",
       "</table>\n",
       "<p>1010 rows × 2 columns</p>\n",
       "</div>"
      ],
      "text/plain": [
       "              Name              Type\n",
       "0        Bulbasaur     Grass, Poison\n",
       "1          Ivysaur     Grass, Poison\n",
       "2         Venusaur     Grass, Poison\n",
       "3       Charmander              Fire\n",
       "4       Charmeleon              Fire\n",
       "...            ...               ...\n",
       "1005  Iron Valiant   Fairy, Fighting\n",
       "1006      Koraidon  Fighting, Dragon\n",
       "1007      Miraidon  Electric, Dragon\n",
       "1008  Walking Wake     Water, Dragon\n",
       "1009   Iron Leaves    Grass, Psychic\n",
       "\n",
       "[1010 rows x 2 columns]"
      ]
     },
     "execution_count": 5,
     "metadata": {},
     "output_type": "execute_result"
    }
   ],
   "source": [
    "pd.read_csv(\"pokemon.csv\")"
   ]
  },
  {
   "cell_type": "markdown",
   "id": "01071078-620b-42ad-a593-da7b00c7bc28",
   "metadata": {},
   "source": [
    "1. usecol() - accepts a column to import\n",
    "2. squeeze() - converts a DF into series"
   ]
  },
  {
   "cell_type": "code",
   "execution_count": 7,
   "id": "875e6fd1-77e8-4a61-a7ee-850302778e5f",
   "metadata": {},
   "outputs": [
    {
     "data": {
      "text/plain": [
       "0          Bulbasaur\n",
       "1            Ivysaur\n",
       "2           Venusaur\n",
       "3         Charmander\n",
       "4         Charmeleon\n",
       "            ...     \n",
       "1005    Iron Valiant\n",
       "1006        Koraidon\n",
       "1007        Miraidon\n",
       "1008    Walking Wake\n",
       "1009     Iron Leaves\n",
       "Name: Name, Length: 1010, dtype: object"
      ]
     },
     "execution_count": 7,
     "metadata": {},
     "output_type": "execute_result"
    }
   ],
   "source": [
    "pd.read_csv(\"pokemon.csv\", usecols=[\"Name\"]).squeeze(\"columns\")"
   ]
  },
  {
   "cell_type": "code",
   "execution_count": null,
   "id": "630f310b-3591-4e9b-aecf-61e3caa7c1f6",
   "metadata": {},
   "outputs": [],
   "source": []
  }
 ],
 "metadata": {
  "kernelspec": {
   "display_name": "Python 3 (ipykernel)",
   "language": "python",
   "name": "python3"
  },
  "language_info": {
   "codemirror_mode": {
    "name": "ipython",
    "version": 3
   },
   "file_extension": ".py",
   "mimetype": "text/x-python",
   "name": "python",
   "nbconvert_exporter": "python",
   "pygments_lexer": "ipython3",
   "version": "3.11.13"
  }
 },
 "nbformat": 4,
 "nbformat_minor": 5
}
